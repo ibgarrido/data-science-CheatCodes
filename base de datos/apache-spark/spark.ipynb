{
 "cells": [
  {
   "cell_type": "markdown",
   "metadata": {},
   "source": [
    "## Configurar Docker"
   ]
  },
  {
   "cell_type": "markdown",
   "metadata": {},
   "source": [
    "Para ejecutar Apache en nuestro computador, necesitamos tener el Dockerfile y el archivo jupyter_notebook_config.py en el directorio.\n",
    "\n",
    "Esto nos permitirá crear un contenedor. Para ello debemos dirigirlos a la carpeta donde está el dockerfile y el archivo py desde la terminal, y luego se debe ejecutar:\n",
    "\n",
    "1. docker build -t spark-jupyter:latest .    \n",
    "2. docker run -it --name spark-jupyter -p 8888:8888 -p 4040:4040 spark-jupyter:latest\n",
    "      \n",
    "\n",
    "Esto lo que hace es construir una imagen de Spark y luego se ejecuta el contenedor en el puerto asignado. \n",
    "\n",
    "Puedes verificar que funciona escribiendo en tu navegador:\n",
    "\n",
    "http://localhost:8888"
   ]
  },
  {
   "cell_type": "code",
   "execution_count": 1,
   "metadata": {},
   "outputs": [
    {
     "name": "stderr",
     "output_type": "stream",
     "text": [
      "24/05/29 15:24:28 WARN Utils: Your hostname, MacBook-Air-de-Ignacio.local resolves to a loopback address: 127.0.0.1; using 10.200.41.6 instead (on interface en0)\n",
      "24/05/29 15:24:28 WARN Utils: Set SPARK_LOCAL_IP if you need to bind to another address\n",
      "Setting default log level to \"WARN\".\n",
      "To adjust logging level use sc.setLogLevel(newLevel). For SparkR, use setLogLevel(newLevel).\n",
      "24/05/29 15:24:29 WARN NativeCodeLoader: Unable to load native-hadoop library for your platform... using builtin-java classes where applicable\n"
     ]
    },
    {
     "name": "stdout",
     "output_type": "stream",
     "text": [
      "<SparkContext master=local[*] appName=JupyterPySpark>\n"
     ]
    }
   ],
   "source": [
    "from pyspark.sql import SparkSession\n",
    "\n",
    "# Configurar e iniciar la sesión de Spark\n",
    "spark = SparkSession.builder \\\n",
    "    .master(\"local[*]\") \\\n",
    "    .appName(\"JupyterPySpark\") \\\n",
    "    .getOrCreate()\n",
    "\n",
    "# Obtener el contexto de Spark\n",
    "sc = spark.sparkContext\n",
    "print(sc)\n"
   ]
  },
  {
   "cell_type": "code",
   "execution_count": 2,
   "metadata": {},
   "outputs": [
    {
     "name": "stderr",
     "output_type": "stream",
     "text": [
      "                                                                                \r"
     ]
    },
    {
     "name": "stdout",
     "output_type": "stream",
     "text": [
      "+----+---+\n",
      "|Name|Age|\n",
      "+----+---+\n",
      "|John| 30|\n",
      "| Doe| 25|\n",
      "|Jane| 35|\n",
      "+----+---+\n",
      "\n"
     ]
    }
   ],
   "source": [
    "# Crear un DataFrame de ejemplo\n",
    "data = [(\"John\", 30), (\"Doe\", 25), (\"Jane\", 35)]\n",
    "columns = [\"Name\", \"Age\"]\n",
    "df = spark.createDataFrame(data, columns)\n",
    "\n",
    "# Mostrar el contenido del DataFrame\n",
    "df.show()\n"
   ]
  },
  {
   "cell_type": "markdown",
   "metadata": {},
   "source": [
    "## Computación distribuida"
   ]
  },
  {
   "cell_type": "code",
   "execution_count": 3,
   "metadata": {},
   "outputs": [
    {
     "data": {
      "text/plain": [
       "data.txt MapPartitionsRDD[8] at textFile at NativeMethodAccessorImpl.java:0"
      ]
     },
     "execution_count": 3,
     "metadata": {},
     "output_type": "execute_result"
    }
   ],
   "source": [
    "textfile = sc.textFile(\"data.txt\")  \n",
    "textfile\n"
   ]
  },
  {
   "cell_type": "code",
   "execution_count": 4,
   "metadata": {},
   "outputs": [
    {
     "data": {
      "text/plain": [
       "['hola como estas',\n",
       " 'bien y tu',\n",
       " 'yo bien tambien ',\n",
       " 'que bueno pues',\n",
       " 'asi es jeje']"
      ]
     },
     "execution_count": 4,
     "metadata": {},
     "output_type": "execute_result"
    }
   ],
   "source": [
    "textfile.collect()"
   ]
  }
 ],
 "metadata": {
  "kernelspec": {
   "display_name": "datascience",
   "language": "python",
   "name": "python3"
  },
  "language_info": {
   "codemirror_mode": {
    "name": "ipython",
    "version": 3
   },
   "file_extension": ".py",
   "mimetype": "text/x-python",
   "name": "python",
   "nbconvert_exporter": "python",
   "pygments_lexer": "ipython3",
   "version": "3.12.2"
  }
 },
 "nbformat": 4,
 "nbformat_minor": 2
}
