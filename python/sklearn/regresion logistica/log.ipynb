{
 "cells": [
  {
   "cell_type": "code",
   "execution_count": 1,
   "metadata": {},
   "outputs": [],
   "source": [
    "import pandas as pd\n",
    "import numpy as np\n",
    "import matplotlib.pyplot as plt\n"
   ]
  },
  {
   "cell_type": "markdown",
   "metadata": {},
   "source": [
    "## Regresión logística"
   ]
  },
  {
   "cell_type": "markdown",
   "metadata": {},
   "source": [
    "Es utilizada para modelar la probabilidad de ocurrencia de una variable binaria cualitativa (0 o 1), en función de una o más variables independientes."
   ]
  },
  {
   "cell_type": "markdown",
   "metadata": {},
   "source": [
    "- Al ajustar una recta mediante regresión lineal, se pueden obtener valores predichos distintos de 0 y 1, lo que entra en contradicción con la definición de la variable respuesta binaria.\n",
    "\n",
    "- Si se quiere interpretar las predicciones del modelo como probabilidades de pertenencia a cada clase, no se cumpliría la condición de que toda probabilidad ha de estar dentro del intervalo (0,1), ya que podrían obtenerse valores fuera de este.\n",
    "\n",
    "Para evitar estos problemas, la regresión logística transforma el valor devuelto por la regresión lineal con una función cuyo resultado siempre está comprendido entre 0 y 1. Existen varias funciones que cumplen esta descripción, una de las más utilizadas es la función logística (también conocida como función sigmoide). Aplicando esta transformación, la función de probabilidad \\(P(Y=1)\\) queda expresada como:\n",
    "\n",
    "$\n",
    "\\ln \\left( \\frac{P(Y=1)}{1-P(Y=1)}\\right)=\\beta_0+\\beta_1 X\n",
    "$\n",
    "\n",
    "$\n",
    "\\rightarrow P(Y=1)=p= \\frac{1}{1+e^{-(\\beta_0+\\beta_1 X)}}\n",
    "$\n",
    "\n",
    "Para ajustar el modelo logístico que permite predecir $P(Y=1)$, es necesario entonces encontrar los valores de los parámetros $\\beta_0$ y $\\beta_1$, a partir de los valores observados de $p$.\n"
   ]
  },
  {
   "cell_type": "code",
   "execution_count": 2,
   "metadata": {},
   "outputs": [
    {
     "name": "stdout",
     "output_type": "stream",
     "text": [
      "   Age  Annual Salary  Previous Purchase  Purchase\n",
      "0   56          81228                  1         0\n",
      "1   69         134752                  1         0\n",
      "2   46          68984                  1         0\n",
      "3   32          60774                  0         0\n",
      "4   60          22568                  1         0\n"
     ]
    }
   ],
   "source": [
    "# Generamos un dataset de ejemplo\n",
    "np.random.seed(42)  # Para reproducibilidad\n",
    "\n",
    "# Generamos datos aleatorios\n",
    "n_samples = 100\n",
    "ages = np.random.randint(18, 70, n_samples)\n",
    "salaries = np.random.randint(20000, 150000, n_samples)\n",
    "previous_purchases = np.random.choice([0, 1], n_samples)\n",
    "purchase_probability = 1 / (1 + np.exp(-(0.1*ages + 0.00005*salaries + 0.5*previous_purchases - 15)))\n",
    "purchases = (purchase_probability > np.random.rand(n_samples)).astype(int)\n",
    "\n",
    "# Creamos el DataFrame\n",
    "df = pd.DataFrame({\n",
    "    'Age': ages,\n",
    "    'Annual Salary': salaries,\n",
    "    'Previous Purchase': previous_purchases,\n",
    "    'Purchase': purchases\n",
    "})\n",
    "\n",
    "# Mostramos el DataFrame\n",
    "print(df.head())\n",
    "\n",
    "# Guardamos el dataset en un archivo CSV\n",
    "df.to_csv('purchase_data.csv', index=False)\n"
   ]
  },
  {
   "cell_type": "code",
   "execution_count": 3,
   "metadata": {},
   "outputs": [],
   "source": [
    "from sklearn.model_selection import train_test_split\n",
    "from sklearn.linear_model import LogisticRegression\n",
    "from sklearn.metrics import accuracy_score, confusion_matrix, classification_report"
   ]
  },
  {
   "cell_type": "code",
   "execution_count": 4,
   "metadata": {},
   "outputs": [
    {
     "name": "stdout",
     "output_type": "stream",
     "text": [
      "Accuracy: 1.0\n",
      "Confusion Matrix:\n",
      " [[30]]\n",
      "Classification Report:\n",
      "               precision    recall  f1-score   support\n",
      "\n",
      "           0       1.00      1.00      1.00        30\n",
      "\n",
      "    accuracy                           1.00        30\n",
      "   macro avg       1.00      1.00      1.00        30\n",
      "weighted avg       1.00      1.00      1.00        30\n",
      "\n"
     ]
    },
    {
     "name": "stderr",
     "output_type": "stream",
     "text": [
      "/opt/homebrew/Caskroom/miniconda/base/envs/datascience/lib/python3.12/site-packages/sklearn/metrics/_classification.py:386: UserWarning: A single label was found in 'y_true' and 'y_pred'. For the confusion matrix to have the correct shape, use the 'labels' parameter to pass all known labels.\n",
      "  warnings.warn(\n"
     ]
    }
   ],
   "source": [
    "# Cargar el dataset\n",
    "df = pd.read_csv('purchase_data.csv')\n",
    "\n",
    "# Definir las características (X) y la variable objetivo (y)\n",
    "X = df[['Age', 'Annual Salary', 'Previous Purchase']]\n",
    "y = df['Purchase']\n",
    "\n",
    "# Dividir el dataset en conjunto de entrenamiento y prueba\n",
    "X_train, X_test, y_train, y_test = train_test_split(X, y, test_size=0.3, random_state=42)\n",
    "\n",
    "# Crear y entrenar el modelo de regresión logística\n",
    "model = LogisticRegression()\n",
    "model.fit(X_train, y_train)\n",
    "\n",
    "# Hacer predicciones en el conjunto de prueba\n",
    "y_pred = model.predict(X_test)\n",
    "\n",
    "# Evaluar el modelo\n",
    "print(\"Accuracy:\", accuracy_score(y_test, y_pred))\n",
    "print(\"Confusion Matrix:\\n\", confusion_matrix(y_test, y_pred))\n",
    "print(\"Classification Report:\\n\", classification_report(y_test, y_pred))"
   ]
  }
 ],
 "metadata": {
  "kernelspec": {
   "display_name": "datascience",
   "language": "python",
   "name": "python3"
  },
  "language_info": {
   "codemirror_mode": {
    "name": "ipython",
    "version": 3
   },
   "file_extension": ".py",
   "mimetype": "text/x-python",
   "name": "python",
   "nbconvert_exporter": "python",
   "pygments_lexer": "ipython3",
   "version": "3.12.2"
  }
 },
 "nbformat": 4,
 "nbformat_minor": 2
}
