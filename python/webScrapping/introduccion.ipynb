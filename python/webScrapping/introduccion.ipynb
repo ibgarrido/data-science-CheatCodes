{
 "cells": [
  {
   "cell_type": "markdown",
   "metadata": {},
   "source": [
    "Cada página web es única y posee su propia estructura, así como la manera en que la página web obtiene y carga los datos varía dependiendo de muchos factores. Estos factores pueden incluir:\n",
    "\n",
    "1. **Tecnologías y Frameworks Utilizados**:\n",
    "   - Las páginas web pueden estar construidas con diferentes tecnologías y frameworks como HTML, CSS, JavaScript, Angular, React, Vue.js, etc.\n",
    "   - Los frameworks de backend como Django, Flask, Ruby on Rails, o Node.js también influyen en la estructura y funcionamiento de la página.\n",
    "\n",
    "2. **Fuentes de Datos**:\n",
    "   - Los datos pueden ser estáticos, embebidos directamente en el HTML de la página, o dinámicos, cargados mediante llamadas a APIs.\n",
    "   - Las páginas pueden usar servicios de terceros para obtener datos, como servicios meteorológicos, plataformas de redes sociales, o sistemas de pago.\n",
    "\n",
    "3. **Métodos de Carga de Datos**:\n",
    "   - **Carga Sincronizada**: Los datos se cargan junto con el HTML y están disponibles cuando la página se renderiza inicialmente.\n",
    "   - **Carga Asincronizada**: Los datos se cargan después de que la página se ha renderizado inicialmente, a menudo utilizando técnicas como AJAX (Asynchronous JavaScript and XML) o fetch API.\n",
    "\n",
    "4. **Interactividad y Dinamismo**:\n",
    "   - Las páginas con mucho contenido interactivo pueden utilizar JavaScript intensivamente para actualizar el contenido sin recargar la página.\n",
    "   - Tecnologías como WebSockets pueden ser utilizadas para actualizar datos en tiempo real.\n",
    "\n",
    "5. **Estructura del Documento**:\n",
    "   - La disposición de los elementos en el DOM (Document Object Model) puede variar significativamente, afectando cómo se accede a los datos.\n",
    "   - El uso de elementos HTML semánticos, atributos personalizados, y clases/CSS puede influir en cómo se identifican y extraen los datos.\n",
    "\n",
    "6. **Autenticación y Autorización**:\n",
    "   - Algunas páginas requieren autenticación para acceder a ciertos datos, utilizando sistemas de login con sesiones o tokens (como JWT).\n",
    "   - La manera en que se maneja la autorización puede afectar la disponibilidad de datos en diferentes partes de la página.\n",
    "\n",
    "7. **Optimización y Compresión**:\n",
    "   - Las páginas pueden estar optimizadas para velocidad mediante técnicas como la compresión de archivos, minimización de código, y el uso de CDN (Content Delivery Networks).\n",
    "   - Esto puede complicar la extracción de datos ya que el contenido puede estar ofuscado o distribuido en múltiples archivos.\n",
    "\n",
    "8. **Internacionalización y Localización**:\n",
    "   - Páginas web que soportan múltiples idiomas y configuraciones regionales pueden tener estructuras diferentes para cada versión localizada.\n",
    "\n",
    "9. **Elementos Dinámicos y Generados**:\n",
    "   - Contenido generado dinámicamente mediante scripts, como gráficas interactivas, tablas de datos, o formularios dinámicos, puede requerir técnicas especializadas para acceder a los datos subyacentes.\n",
    "\n",
    "10. **Medidas de Seguridad**:\n",
    "    - Algunas páginas implementan medidas de seguridad para prevenir el scraping de datos, como CAPTCHAs, políticas de CORS (Cross-Origin Resource Sharing), y técnicas de ofuscación de JavaScript.\n"
   ]
  },
  {
   "cell_type": "code",
   "execution_count": null,
   "metadata": {},
   "outputs": [],
   "source": []
  }
 ],
 "metadata": {
  "language_info": {
   "name": "python"
  }
 },
 "nbformat": 4,
 "nbformat_minor": 2
}
